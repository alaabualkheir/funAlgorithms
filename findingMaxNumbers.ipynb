{
 "cells": [
  {
   "cell_type": "markdown",
   "metadata": {},
   "source": [
    "## Testing the **Max** element algorithm"
   ]
  },
  {
   "cell_type": "markdown",
   "metadata": {},
   "source": [
    "**Importing Libraries**"
   ]
  },
  {
   "cell_type": "code",
   "execution_count": 215,
   "metadata": {},
   "outputs": [],
   "source": [
    "import numpy as np\n",
    "from matplotlib import pyplot as plt "
   ]
  },
  {
   "cell_type": "markdown",
   "metadata": {},
   "source": [
    "**Choosing Random Beginning and End of the array**\n",
    "\n",
    "We choose two random integers between -100 and 99. The smaller of which is set to be the lower bound of the array, while the larger one is set to be the upper bound of the array.\n",
    "Between these two bounds, we generate random integers. The number of these integers does not exceed the difference between the two bounds."
   ]
  },
  {
   "cell_type": "code",
   "execution_count": 216,
   "metadata": {},
   "outputs": [
    {
     "name": "stdout",
     "output_type": "stream",
     "text": [
      "Lower bound is 46 while upper bound is 71. The number of points is 4.\n"
     ]
    }
   ],
   "source": [
    "boundaries = np.sort(np.random.randint(-100,100,size = (1,2)))\n",
    "lower_end = np.min(boundaries)\n",
    "NumberOfPoints = np.random.randint(np.diff(boundaries, n=1))\n",
    "\n",
    "print(f'Lower bound is {boundaries[0][0]} while upper bound is {boundaries[0][1]}. The number of points is {NumberOfPoints}.')\n"
   ]
  },
  {
   "cell_type": "markdown",
   "metadata": {},
   "source": [
    "**Generating the array**"
   ]
  },
  {
   "cell_type": "code",
   "execution_count": 217,
   "metadata": {},
   "outputs": [],
   "source": [
    "a = np.random.randint(boundaries[0][0],boundaries[0][1],size=[1,NumberOfPoints+1])"
   ]
  },
  {
   "cell_type": "markdown",
   "metadata": {},
   "source": [
    "**Calculating forward difference**\n",
    "\n",
    "This is defined as the difference between element [n+1] an delement [n]."
   ]
  },
  {
   "cell_type": "code",
   "execution_count": 218,
   "metadata": {},
   "outputs": [],
   "source": [
    "forward_difference =  np.diff(a, n=1)"
   ]
  },
  {
   "cell_type": "markdown",
   "metadata": {},
   "source": [
    "**Calculating backward difference**\n",
    "\n",
    "This is defined as the difference between element [n] and [n+1]"
   ]
  },
  {
   "cell_type": "code",
   "execution_count": 219,
   "metadata": {},
   "outputs": [],
   "source": [
    "backward_difference = np.fliplr(np.diff(np.fliplr(a),n=1))"
   ]
  },
  {
   "cell_type": "markdown",
   "metadata": {},
   "source": [
    "**Finding the elements that have positive forward and backward differences**\n",
    "\n",
    "By definition, a Max number is a number that is larger than its preceeding and proceesing numbers. Hence, it would have a positive forward and backward differences. "
   ]
  },
  {
   "cell_type": "code",
   "execution_count": 220,
   "metadata": {},
   "outputs": [],
   "source": [
    "maxElementIndex = np.where((np.sign(forward_difference[0][:-1])==1) & (np.sign(backward_difference[0][1:])==1))"
   ]
  },
  {
   "cell_type": "code",
   "execution_count": 221,
   "metadata": {},
   "outputs": [
    {
     "name": "stdout",
     "output_type": "stream",
     "text": [
      "The array a: [61 68 54 49 47], has 1 Max numbers. These are [68].\n"
     ]
    }
   ],
   "source": [
    "print(f'The array a: {a[0]}, has {len(maxElementIndex[0])} Max numbers. These are {a[0][maxElementIndex[0]+1]}.')"
   ]
  }
 ],
 "metadata": {
  "kernelspec": {
   "display_name": "Python 3",
   "language": "python",
   "name": "python3"
  },
  "language_info": {
   "codemirror_mode": {
    "name": "ipython",
    "version": 3
   },
   "file_extension": ".py",
   "mimetype": "text/x-python",
   "name": "python",
   "nbconvert_exporter": "python",
   "pygments_lexer": "ipython3",
   "version": "3.7.2"
  }
 },
 "nbformat": 4,
 "nbformat_minor": 2
}
